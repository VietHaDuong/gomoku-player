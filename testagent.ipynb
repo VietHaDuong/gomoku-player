{
  "nbformat": 4,
  "nbformat_minor": 0,
  "metadata": {
    "colab": {
      "provenance": [],
      "authorship_tag": "ABX9TyOC1v3ir0/uz8b+0Z2yt6pA",
      "include_colab_link": true
    },
    "kernelspec": {
      "name": "python3",
      "display_name": "Python 3"
    },
    "language_info": {
      "name": "python"
    }
  },
  "cells": [
    {
      "cell_type": "markdown",
      "metadata": {
        "id": "view-in-github",
        "colab_type": "text"
      },
      "source": [
        "<a href=\"https://colab.research.google.com/github/VietHaDuong/gomoku-player/blob/main/testagent.ipynb\" target=\"_parent\"><img src=\"https://colab.research.google.com/assets/colab-badge.svg\" alt=\"Open In Colab\"/></a>"
      ]
    },
    {
      "cell_type": "code",
      "source": [
        "!pip install git+https://github.com/sitfoxfly/gomoku-ai"
      ],
      "metadata": {
        "id": "s_P-B_5lEDWp"
      },
      "execution_count": null,
      "outputs": []
    },
    {
      "cell_type": "code",
      "execution_count": null,
      "metadata": {
        "id": "7GOWUjOnD6ik"
      },
      "outputs": [],
      "source": [
        "import re\n",
        "import json\n",
        "import random\n",
        "from google.colab import userdata\n",
        "from typing import Tuple\n",
        "from gomoku import Agent\n",
        "from gomoku.llm import OpenAIGomokuClient\n",
        "from gomoku.core.models import Player, GameState, GameResult\n",
        "\n",
        "class AgentG(Agent):\n",
        "\n",
        "    def _setup(self):\n",
        "      self.system_prompt = self._create_system_prompt()\n",
        "      self.llm_client = OpenAIGomokuClient(api_key=userdata.get('omok'), model='Qwen/Qwen3-8B:featherless-ai', endpoint='https://router.huggingface.co/v1')\n",
        "\n",
        "    def _create_system_prompt(self) -> str:\n",
        "        \"\"\"Create the system prompt that teaches the LLM how to play Gomoku.\"\"\"\n",
        "        return \"\"\"\n",
        "        You are an expert Gomoku (Five-in-a-Row) player. Your goal is to get 5 of your pieces\n",
        "          in a row (horizontally, vertically, or diagonally) while preventing your opponent from doing the same.\n",
        "\n",
        "          Strategic priorities:\n",
        "          1. WIN: If you can make 5 in a row, do it immediately\n",
        "          2. BLOCK: If opponent can make 5 in a row in the next move, block them immediately\n",
        "          3. CREATE THREATS: Build sequences of 2-3 pieces to create multiple winning opportunities\n",
        "          4. CONTROL CENTER: The center area is most valuable for creating multiple directions, try to play in the center area when there are opportunity\n",
        "          5. CREATE FORKS: Try to create situations where you have multiple ways to win\n",
        "          6. Extend strongest OPEN THREE (e.g XXX__ / _XXX_ / X_XX_ with at least one opening end)\n",
        "          7. Block opponent's strongest OPEN THREE\n",
        "          8. Prefer moves near recent stones (Chebyshev distance <= 2) and near center when strength is equal\n",
        "          9. Never choose an occupied/out-of-bound cell\n",
        "\n",
        "          You must respond with valid JSON in this exact format:\n",
        "          {\n",
        "              \"reasoning\": \"Brief explanation of your strategic thinking\",\n",
        "              \"row\": <row_number>,\n",
        "              \"col\": <col_number>\n",
        "          }\n",
        "\n",
        "          The row and col must be valid coordinates (0-indexed). Choose only empty positions marked with '.'.\n",
        "          \"\"\".strip()\n",
        "\n",
        "    async def get_move(self, game_state: GameState) -> Tuple[int, int]:\n",
        "        print(f\"\\n🧠 {self.agent_id} is thinking...\")\n",
        "\n",
        "        try:\n",
        "\n",
        "            board_str = game_state.format_board(formatter=\"standard\")\n",
        "            board_prompt = f\"Current board state:\\n{board_str}\\n\"\n",
        "            board_prompt += f\"Current player: {game_state.current_player.value}\\n\"\n",
        "\n",
        "            # Create messages for the LLM\n",
        "            messages = [\n",
        "                {\"role\": \"system\", \"content\": self.system_prompt},\n",
        "                {\"role\": \"user\", \"content\": f\"{board_prompt}\\n\\nPlease provide your next move as JSON.\"},\n",
        "            ]\n",
        "\n",
        "            print(\"💡 Full Prompt:\\n\\n\")\n",
        "            print(json.dumps(messages, indent=2, ensure_ascii=False))\n",
        "            print()\n",
        "\n",
        "            # Get response from LLM\n",
        "            response = await self.llm_client.complete(messages)\n",
        "\n",
        "            print(\"💡 Response:\\n\\n\")\n",
        "            print(response)\n",
        "            print()\n",
        "\n",
        "            if m := re.search(r\"{[^}]+}\", response, re.DOTALL):\n",
        "                json_data = json.loads(m.group(0).strip())\n",
        "                return json_data[\"row\"], json_data[\"col\"]\n",
        "\n",
        "        except Exception as e:\n",
        "            print(e)\n",
        "\n",
        "        return self._get_fallback_move(game_state)\n",
        "\n",
        "    def _get_fallback_move(self, game_state: GameState) -> Tuple[int, int]:\n",
        "        return random.choice(game_state.get_legal_moves())"
      ]
    }
  ]
}